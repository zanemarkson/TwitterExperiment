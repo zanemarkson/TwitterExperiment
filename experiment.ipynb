{
 "cells": [
  {
   "cell_type": "markdown",
   "metadata": {},
   "source": [
    "# Twitter Study on 2016 Election\n",
    "\n",
    "__Social media is now an essential part of modern era and people have become used to share their thoughts and opinions on social media such as [Twitter](https://twitter.com/) and [LinkedIn](https://www.linkedin.com/). In this exploratory and preliminary study, we use the approximately 1 million tweets collected between Oct. 19th, 7:30pm and Oct. 20th, 1:30am to try and predict the presidential election outcome. All the tweets are separated into two section: before the 3rd presidential debate and in/post the debate. Note that the debate started ~9:00pm on Oct. 19th.__\n",
    "\n",
    "__In this study, it is assumed that the collected original tweets (no retweets) can accurately reflect the distribution of people's political opinion among all voters. This is a very crude approximation, which makes this study only qualitatively meaningful. Technology wise, `Python` is used as the main programming language and a `MongoDB` instance was used to store the tweets gathered via [Twitter Streaming API](https://dev.twitter.com/streaming/overview). Standard `Python` tools, such as `NumPy` and `Pandas`, are used for data munging. [NLTK](http://http://www.nltk.org/index.html) was used for word stemming and stop-word removal. The tweets text was analyzed on a `Apache Spark` cluster using `Word2Vec` NLP algorithm (skip-gram model) and `KMeans` clustering algorithm. Finally, the data visualization is carried out using [`plotly`](https://plot.ly/) and [`ggplot`](http://ggplot.yhathq.com).__\n"
   ]
  },
  {
   "cell_type": "markdown",
   "metadata": {},
   "source": [
    "## Create A Connection To MongoDB"
   ]
  },
  {
   "cell_type": "code",
   "execution_count": 1,
   "metadata": {
    "collapsed": true
   },
   "outputs": [],
   "source": [
    "import pymongo\n",
    "from pymongo import MongoClient\n",
    "client = MongoClient('mongodb://152.3.169.27:27017/')"
   ]
  },
  {
   "cell_type": "code",
   "execution_count": 2,
   "metadata": {
    "collapsed": true
   },
   "outputs": [],
   "source": [
    "import numpy as np, scipy as sp\n",
    "import pandas as pd\n",
    "from pandas import DataFrame as df, Series as ss\n",
    "import sklearn as sk\n",
    "import ggplot, seaborn as sns\n",
    "from pyspark.sql.types import *\n",
    "from pyspark.sql.functions import *\n",
    "%matplotlib inline\n",
    "import random, string"
   ]
  },
  {
   "cell_type": "code",
   "execution_count": 3,
   "metadata": {
    "collapsed": false,
    "scrolled": false
   },
   "outputs": [],
   "source": [
    "import re\n",
    "from bs4 import BeautifulSoup\n",
    "import nltk\n",
    "from nltk.corpus import stopwords\n",
    "from nltk.stem import PorterStemmer\n",
    "ps = PorterStemmer()"
   ]
  },
  {
   "cell_type": "code",
   "execution_count": 4,
   "metadata": {
    "collapsed": true
   },
   "outputs": [],
   "source": [
    "tweets = client['db_third_debate']\n",
    "pre_debate = tweets['pre_debate']\n",
    "in_debate = tweets['in_debate']"
   ]
  },
  {
   "cell_type": "code",
   "execution_count": 5,
   "metadata": {
    "collapsed": false
   },
   "outputs": [
    {
     "data": {
      "text/plain": [
       "114544"
      ]
     },
     "execution_count": 5,
     "metadata": {},
     "output_type": "execute_result"
    }
   ],
   "source": [
    "pre_debate.find({\"retweeted_status\":{\"$exists\": False}}).count()"
   ]
  },
  {
   "cell_type": "code",
   "execution_count": 6,
   "metadata": {
    "collapsed": false,
    "scrolled": false
   },
   "outputs": [
    {
     "data": {
      "text/plain": [
       "303731"
      ]
     },
     "execution_count": 6,
     "metadata": {},
     "output_type": "execute_result"
    }
   ],
   "source": [
    "in_debate.find({\"retweeted_status\":{\"$exists\": False}}).count()"
   ]
  },
  {
   "cell_type": "markdown",
   "metadata": {},
   "source": [
    "## We Take Only The Original Tweets"
   ]
  },
  {
   "cell_type": "code",
   "execution_count": 7,
   "metadata": {
    "collapsed": false
   },
   "outputs": [],
   "source": [
    "pre_debate_tweets = pd.DataFrame(list(pre_debate.find({\"retweeted_status\":{\"$exists\": False}}, \n",
    "         projection={\"_id\": False, \"text\": True, \"lang\": True, \"timestamp_ms\": True, \"user['location']\": True, \\\n",
    "                     \"retweet_count\": True, \"entities.hashtags.text\": True})) )\n",
    "pre_debate_tweets = pre_debate_tweets.dropna(how='any', subset=['text'])"
   ]
  },
  {
   "cell_type": "code",
   "execution_count": 8,
   "metadata": {
    "collapsed": true
   },
   "outputs": [],
   "source": [
    "in_debate_tweets = pd.DataFrame(list(in_debate.find({\"retweeted_status\":{\"$exists\": False}}, \n",
    "         projection={\"_id\": False, \"text\": True, \"lang\": True, \"timestamp_ms\": True, \"user['location']\": True, \\\n",
    "                     \"retweet_count\": True, \"entities.hashtags.text\": True})) )\n",
    "in_debate_tweets = in_debate_tweets.dropna(how='any', subset=['text'])"
   ]
  },
  {
   "cell_type": "code",
   "execution_count": 9,
   "metadata": {
    "collapsed": true
   },
   "outputs": [],
   "source": [
    "pre_debate_tweets['timestamp_ms'] = pre_debate_tweets['timestamp_ms'].astype(np.int)\n",
    "pre_debate_tweets['retweet_count'] = pre_debate_tweets['retweet_count'].astype(np.int)\n",
    "pre_debate_tweets['tweet'] = pre_debate_tweets['text']\n",
    "in_debate_tweets['timestamp_ms'] = in_debate_tweets['timestamp_ms'].astype(np.int)\n",
    "in_debate_tweets['retweet_count'] = in_debate_tweets['retweet_count'].astype(np.int)\n",
    "in_debate_tweets['tweet'] = in_debate_tweets['text']"
   ]
  },
  {
   "cell_type": "code",
   "execution_count": 10,
   "metadata": {
    "collapsed": false
   },
   "outputs": [],
   "source": [
    "pre_sample = random.sample(range(0, pre_debate_tweets.shape[0]), 25000)\n",
    "in_sample = random.sample(range(0, in_debate_tweets.shape[0]), 25000)"
   ]
  },
  {
   "cell_type": "code",
   "execution_count": 11,
   "metadata": {
    "collapsed": true
   },
   "outputs": [],
   "source": [
    "# pre_debate_tweets_sample = pre_debate_tweets.iloc[pre_sample].copy()\n",
    "pre_debate_tweets_sample = pre_debate_tweets[pre_debate_tweets['lang']==\"en\"].copy()"
   ]
  },
  {
   "cell_type": "code",
   "execution_count": 12,
   "metadata": {
    "collapsed": false
   },
   "outputs": [
    {
     "data": {
      "text/plain": [
       "(83095, 6)"
      ]
     },
     "execution_count": 12,
     "metadata": {},
     "output_type": "execute_result"
    }
   ],
   "source": [
    "pre_debate_tweets_sample.shape"
   ]
  },
  {
   "cell_type": "code",
   "execution_count": 13,
   "metadata": {
    "collapsed": true
   },
   "outputs": [],
   "source": [
    "# in_debate_tweets_sample = in_debate_tweets.iloc[in_sample].copy()\n",
    "in_debate_tweets_sample = in_debate_tweets[in_debate_tweets['lang']==\"en\"].copy()"
   ]
  },
  {
   "cell_type": "code",
   "execution_count": 14,
   "metadata": {
    "collapsed": false
   },
   "outputs": [
    {
     "data": {
      "text/plain": [
       "(209463, 6)"
      ]
     },
     "execution_count": 14,
     "metadata": {},
     "output_type": "execute_result"
    }
   ],
   "source": [
    "in_debate_tweets_sample.shape"
   ]
  },
  {
   "cell_type": "markdown",
   "metadata": {},
   "source": [
    "## Cleaning The Text"
   ]
  },
  {
   "cell_type": "code",
   "execution_count": 15,
   "metadata": {
    "collapsed": true
   },
   "outputs": [],
   "source": [
    "class cleanTweets(object):\n",
    "    \n",
    "    acc = 0\n",
    "    stops = set(stopwords.words(\"english\"))  \n",
    "    \n",
    "    @classmethod\n",
    "    def clearText(self, textString):\n",
    "        '''\n",
    "        @param textString: String\n",
    "        '''\n",
    "        # Back to plain string\n",
    "        # s1 = str(textString.decode('unicode_escape').encode('ascii','ignore'))\n",
    "        \n",
    "        if type(textString) == 'float':\n",
    "            textString = str(textString)\n",
    "        s1 = str(textString.encode('ascii', 'ignore'))\n",
    "        # Remove URLs\n",
    "        s1 = re.sub(r'http[s]?://(?:[a-zA-Z]|[0-9]|[$-_@.&+]|[!*\\(\\),]|(?:%[0-9a-fA-F][0-9a-fA-F]))+', ' ', s1)\n",
    "        # Remove @...s\n",
    "        s1 = re.sub(r'@\\w+\\b', ' ', s1)\n",
    "        # Remove hashtags, we will check hash tags later from tweet fields\n",
    "        s1 = re.sub(r'#\\w+\\b', ' ', s1)\n",
    "        # Punctuations, special treatment for \"U.S.\"\n",
    "        s1 = re.sub(r'U\\.S\\.', 'US', s1)\n",
    "        # s1 = re.sub(r'[\\\"\\'\\`\\,\\.\\-\\:\\{\\}\\!\\?\\<\\>\\[\\]]|\\&amp\\;|\\\\n', ' ', s1)\n",
    "        s1 = s1.translate(None, string.punctuation)\n",
    "\n",
    "        # Apply NLTK\n",
    "        # s1 = ' '.join(nltk.word_tokenize(s1)).strip()\n",
    "        s1 = nltk.word_tokenize(s1)\n",
    "        words = [ps.stem(w.lower()) for w in s1 if not w.lower() in self.stops ]\n",
    "        \n",
    "        # lowerCaseWords = [w.lower() for w in words]\n",
    "        self.acc = self.acc + 1\n",
    "        # print self.acc\n",
    "\n",
    "        # return ' '.join(lowerCaseWords)\n",
    "        # return lowerCaseWords\n",
    "        return words\n",
    "    \n",
    "    @classmethod\n",
    "    def collectHashTags(self, thisEntities):\n",
    "        j = []\n",
    "        for tag in thisEntities['hashtags']:\n",
    "            j.append(str(tag[u'text'].encode('ascii', 'ignore')))\n",
    "        self.acc = self.acc + 1\n",
    "        return j"
   ]
  },
  {
   "cell_type": "code",
   "execution_count": 16,
   "metadata": {
    "collapsed": false
   },
   "outputs": [],
   "source": [
    "cleanTweets.acc = 0"
   ]
  },
  {
   "cell_type": "code",
   "execution_count": 17,
   "metadata": {
    "collapsed": false
   },
   "outputs": [],
   "source": [
    "pre_debate_tweets_sample['text'] = pre_debate_tweets_sample['text'].apply(cleanTweets.clearText)"
   ]
  },
  {
   "cell_type": "code",
   "execution_count": 18,
   "metadata": {
    "collapsed": false
   },
   "outputs": [],
   "source": [
    "in_debate_tweets_sample['text'] = in_debate_tweets_sample['text'].apply(cleanTweets.clearText)"
   ]
  },
  {
   "cell_type": "code",
   "execution_count": 19,
   "metadata": {
    "collapsed": false
   },
   "outputs": [],
   "source": [
    "pre_debate_tweets_sample['entities'] = pre_debate_tweets_sample['entities'].apply(cleanTweets.collectHashTags)\n",
    "in_debate_tweets_sample['entities'] = in_debate_tweets_sample['entities'].apply(cleanTweets.collectHashTags)"
   ]
  },
  {
   "cell_type": "markdown",
   "metadata": {},
   "source": [
    "## Start SparkSession"
   ]
  },
  {
   "cell_type": "code",
   "execution_count": 20,
   "metadata": {
    "collapsed": true
   },
   "outputs": [],
   "source": [
    "# spark.conf.set('spark.executor.memory', '6G')"
   ]
  },
  {
   "cell_type": "code",
   "execution_count": 21,
   "metadata": {
    "collapsed": true
   },
   "outputs": [],
   "source": [
    "sp_pre_debate_tweets = spark.createDataFrame(pre_debate_tweets_sample)\n",
    "sp_pre_debate_tweets.cache()\n",
    "sp_in_debate_tweets = spark.createDataFrame(in_debate_tweets_sample)\n",
    "sp_in_debate_tweets.cache()\n",
    "\n",
    "sp_pre_debate_tweets = sp_pre_debate_tweets.withColumnRenamed('entities', 'hashtags')\n",
    "sp_in_debate_tweets = sp_in_debate_tweets.withColumnRenamed('entities', 'hashtags')"
   ]
  },
  {
   "cell_type": "markdown",
   "metadata": {},
   "source": [
    "## Applying the `pyspark.ml.feature.Word2Vec` and `pyspark.ml.clustering.KMeans`"
   ]
  },
  {
   "cell_type": "code",
   "execution_count": 22,
   "metadata": {
    "collapsed": true
   },
   "outputs": [],
   "source": [
    "from pyspark.ml.feature import Word2Vec\n",
    "word2Vec = Word2Vec(vectorSize=100, minCount=5, inputCol=\"text\", outputCol=\"word_vector\")"
   ]
  },
  {
   "cell_type": "code",
   "execution_count": 23,
   "metadata": {
    "collapsed": true
   },
   "outputs": [],
   "source": [
    "w2v_pre_model = word2Vec.fit(sp_pre_debate_tweets)\n",
    "w2v_in_model = word2Vec.fit(sp_in_debate_tweets)"
   ]
  },
  {
   "cell_type": "code",
   "execution_count": 24,
   "metadata": {
    "collapsed": false
   },
   "outputs": [
    {
     "data": {
      "text/plain": [
       "DataFrame[hashtags: array<string>, lang: string, retweet_count: bigint, text: array<string>, timestamp_ms: bigint, tweet: string, word_vector: vector]"
      ]
     },
     "execution_count": 24,
     "metadata": {},
     "output_type": "execute_result"
    }
   ],
   "source": [
    "w2v_pre_result = w2v_pre_model.transform(sp_pre_debate_tweets)\n",
    "w2v_pre_result.cache()\n",
    "w2v_in_result = w2v_in_model.transform(sp_in_debate_tweets)\n",
    "w2v_in_result.cache()"
   ]
  },
  {
   "cell_type": "code",
   "execution_count": 25,
   "metadata": {
    "collapsed": true
   },
   "outputs": [],
   "source": [
    "from pyspark.ml.clustering import KMeans\n",
    "kmeans = KMeans(featuresCol=\"word_vector\", predictionCol=\"prediction\", k=5, seed=1023)\n",
    "kmeans_pre_model = kmeans.fit(w2v_pre_result)\n",
    "kmeans_in_model = kmeans.fit(w2v_in_result)"
   ]
  },
  {
   "cell_type": "code",
   "execution_count": 26,
   "metadata": {
    "collapsed": true
   },
   "outputs": [],
   "source": [
    "trans_w2v_pre_results = kmeans_pre_model.transform(w2v_pre_result)\n",
    "trans_w2v_in_results = kmeans_in_model.transform(w2v_in_result)"
   ]
  },
  {
   "cell_type": "markdown",
   "metadata": {},
   "source": [
    "## Performing Window Aggregation On Prediction"
   ]
  },
  {
   "cell_type": "code",
   "execution_count": 27,
   "metadata": {
    "collapsed": false
   },
   "outputs": [],
   "source": [
    "trans_w2v_pre_results = trans_w2v_pre_results.withColumn('time', \n",
    "                                 from_unixtime(trans_w2v_pre_results['timestamp_ms']/1000)).sort('time')\n",
    "trans_w2v_in_results = trans_w2v_in_results.withColumn('time', \n",
    "                                 from_unixtime(trans_w2v_in_results['timestamp_ms']/1000)).sort('time')"
   ]
  },
  {
   "cell_type": "code",
   "execution_count": 28,
   "metadata": {
    "collapsed": false
   },
   "outputs": [],
   "source": [
    "trans_w2v_pre_results = trans_w2v_pre_results.withColumn('grid', \n",
    "                                                         window(trans_w2v_pre_results['time'], \"20 minute\"))\n",
    "trans_w2v_in_results = trans_w2v_in_results.withColumn('grid', \n",
    "                                                         window(trans_w2v_in_results['time'], \"30 minute\"))"
   ]
  },
  {
   "cell_type": "code",
   "execution_count": 29,
   "metadata": {
    "collapsed": true
   },
   "outputs": [],
   "source": [
    "trans_w2v_pre_results_sql = trans_w2v_pre_results.createOrReplaceTempView(\"pre_result\")\n",
    "\n",
    "trans_w2v_in_results_sql = trans_w2v_in_results.createOrReplaceTempView(\"in_result\")"
   ]
  },
  {
   "cell_type": "code",
   "execution_count": 30,
   "metadata": {
    "collapsed": false
   },
   "outputs": [],
   "source": [
    "pre_result_window = spark.sql(\"\"\"\n",
    "  SELECT prediction, COUNT(prediction) AS _count, grid.start\n",
    "  FROM pre_result\n",
    "  GROUP BY prediction, grid.start\n",
    "  ORDER BY prediction, grid.start\n",
    "\"\"\")\n",
    "\n",
    "pre_result_pdf = pre_result_window.toPandas()\n",
    "\n",
    "in_result_window = spark.sql(\"\"\"\n",
    "  SELECT prediction, count(prediction) AS _count, grid.start\n",
    "  FROM in_result\n",
    "  GROUP BY prediction, grid.start\n",
    "  ORDER BY prediction, grid.start\n",
    "\"\"\")\n",
    "\n",
    "in_result_pdf = in_result_window.toPandas()"
   ]
  },
  {
   "cell_type": "markdown",
   "metadata": {},
   "source": [
    "## Visualization on Percentages using `plotly` and `cufflinks`"
   ]
  },
  {
   "cell_type": "code",
   "execution_count": 31,
   "metadata": {
    "collapsed": false,
    "scrolled": false
   },
   "outputs": [],
   "source": [
    "pre_time = list(pre_result_pdf['start'].unique())\n",
    "in_time = list(in_result_pdf['start'].unique())\n",
    "pre_count = []\n",
    "in_count = []\n",
    "for itime in pre_time:\n",
    "    pre_count.append(pre_result_pdf[pre_result_pdf['start']==itime]['_count'].sum())\n",
    "for itime in in_time:\n",
    "    in_count.append(in_result_pdf[in_result_pdf['start']==itime]['_count'].sum())"
   ]
  },
  {
   "cell_type": "code",
   "execution_count": 32,
   "metadata": {
    "collapsed": false
   },
   "outputs": [],
   "source": [
    "pre_result_pdf['percentage'] = pre_result_pdf['_count']\n",
    "in_result_pdf['percentage'] = in_result_pdf['_count']\n",
    "for index, row in pre_result_pdf.iterrows():\n",
    "    pre_result_pdf.loc[index, 'percentage'] = float(row['_count']) / \\\n",
    "    float(pre_count[pre_time.index(np.datetime64(row['start']))])\n",
    "    # print float(row['_count']) / float(pre_count[row['prediction']])\n",
    "for index, row in in_result_pdf.iterrows():\n",
    "    in_result_pdf.loc[index, 'percentage'] = float(row['_count']) / \\\n",
    "    float(in_count[in_time.index(np.datetime64(row['start']))])"
   ]
  },
  {
   "cell_type": "code",
   "execution_count": 33,
   "metadata": {
    "collapsed": false
   },
   "outputs": [
    {
     "name": "stdout",
     "output_type": "stream",
     "text": [
      "0.8.2\n"
     ]
    }
   ],
   "source": [
    "import cufflinks as cf\n",
    "print cf.__version__\n",
    "import plotly.plotly as py"
   ]
  },
  {
   "cell_type": "code",
   "execution_count": 34,
   "metadata": {
    "collapsed": false
   },
   "outputs": [],
   "source": [
    "pre_result_pdf_pivot = pre_result_pdf.pivot('start', 'prediction')['percentage']\n",
    "in_result_pdf_pivot = in_result_pdf.pivot('start', 'prediction')['percentage']"
   ]
  },
  {
   "cell_type": "code",
   "execution_count": 35,
   "metadata": {
    "collapsed": false
   },
   "outputs": [
    {
     "data": {
      "text/plain": [
       "DatetimeIndex(['2016-10-19 19:20:00', '2016-10-19 19:40:00',\n",
       "               '2016-10-19 20:00:00', '2016-10-19 20:20:00',\n",
       "               '2016-10-19 20:40:00', '2016-10-19 21:00:00'],\n",
       "              dtype='datetime64[ns]', name=u'start', freq=None)"
      ]
     },
     "execution_count": 35,
     "metadata": {},
     "output_type": "execute_result"
    }
   ],
   "source": [
    "pre_result_pdf_pivot.index"
   ]
  },
  {
   "cell_type": "code",
   "execution_count": 56,
   "metadata": {
    "collapsed": false
   },
   "outputs": [
    {
     "name": "stdout",
     "output_type": "stream",
     "text": [
      "High five! You successfuly sent some data to your account on plotly. View your plot in your browser at https://plot.ly/~zanemarkson/0 or inside your plot.ly account where it is named 'cf_pre_debate'\n"
     ]
    },
    {
     "data": {
      "text/html": [
       "<iframe id=\"igraph\" scrolling=\"no\" style=\"border:none;\" seamless=\"seamless\" src=\"https://plot.ly/~zanemarkson/0.embed\" height=\"525px\" width=\"100%\"></iframe>"
      ],
      "text/plain": [
       "<plotly.tools.PlotlyDisplay object>"
      ]
     },
     "execution_count": 56,
     "metadata": {},
     "output_type": "execute_result"
    }
   ],
   "source": [
    "cf.set_config_file(offline=False, world_readable=True, theme='ggplot')\n",
    "pre_result_pdf_pivot.iplot(kind='barh',barmode='stack', bargap=.3, filename='cf_pre_debate')"
   ]
  },
  {
   "cell_type": "code",
   "execution_count": 57,
   "metadata": {
    "collapsed": false
   },
   "outputs": [
    {
     "data": {
      "text/html": [
       "<iframe id=\"igraph\" scrolling=\"no\" style=\"border:none;\" seamless=\"seamless\" src=\"https://plot.ly/~zanemarkson/2.embed\" height=\"525px\" width=\"100%\"></iframe>"
      ],
      "text/plain": [
       "<plotly.tools.PlotlyDisplay object>"
      ]
     },
     "execution_count": 57,
     "metadata": {},
     "output_type": "execute_result"
    }
   ],
   "source": [
    "cf.set_config_file(offline=False, world_readable=True, theme='ggplot')\n",
    "in_result_pdf_pivot.iplot(kind='barh',barmode='stack', bargap=.3, filename='cf_in_debate')"
   ]
  },
  {
   "cell_type": "markdown",
   "metadata": {},
   "source": [
    "## What are they ???\n",
    "\n",
    "### Pre-Debate: \n",
    "#### 0. Ad/Report;   1. \"observing?\"\n",
    "#### 2. Slightly for Trump;   3. Report;\n",
    "#### 4. Slightly for Clinton\n",
    "\n",
    "### In/Post-Debate:\n",
    "#### 0. Frustration ...;   1. Slightly for Clinton\n",
    "#### 2. Against Trump;   3. \"observing?\"\n",
    "#### 4. Slightly for Trump\n"
   ]
  },
  {
   "cell_type": "code",
   "execution_count": 38,
   "metadata": {
    "collapsed": false,
    "scrolled": false
   },
   "outputs": [
    {
     "name": "stdout",
     "output_type": "stream",
     "text": [
      "# ===========> Category 0 <=========== #\n",
      "+---------------------------------------------------------------------------------------------------------------------------------------+\n",
      "|tweet                                                                                                                                  |\n",
      "+---------------------------------------------------------------------------------------------------------------------------------------+\n",
      "|Mexico regulators ordered bank stress tests to model Trump victory: sources https://t.co/4TffHlncgT brandnaware https://t.co/gDFItyYKvf|\n",
      "|Mexico regulators ordered bank stress tests to model Trump victory -  https://t.co/j2pLdrTNuy https://t.co/e7qP3zG6eU                  |\n",
      "|Mexico regulators ordered bank stress tests to model Trump victory: sources https://t.co/zWCjsDZfJr                                    |\n",
      "|Mexico regulators ordered bank stress tests to model Trump victory: sources: Mexico's financial… https://t.co/kyhLouHnOH #election     |\n",
      "|Mexico regulators ordered bank stress tests to model Trump victory: sources https://t.co/T9ZCCIUiP8                                    |\n",
      "|Mexico regulators ordered bank stress tests to model Trump victory: sources https://t.co/219yI3hthK ^Re                                |\n",
      "|MEXICO ORDERED BANK STRESS TESTS MODELING TRUMP VICTORY: RTRS                                                                          |\n",
      "|Mexico regulators ordered bank stress tests to model Trump victory: sources https://t.co/CAb7y5AxQE                                    |\n",
      "|zerohedge: MEXICO ORDERED BANK STRESS TESTS MODELING TRUMP VICTORY: RTRS                                                               |\n",
      "|#news #Mexico regulators ordered bank stress tests to model Trump victory: sources #business #fdlx                                     |\n",
      "+---------------------------------------------------------------------------------------------------------------------------------------+\n",
      "only showing top 10 rows\n",
      "\n",
      "# ===========> Category 1 <=========== #\n",
      "+------------------------------------------------------------------------------------------------------+\n",
      "|tweet                                                                                                 |\n",
      "+------------------------------------------------------------------------------------------------------+\n",
      "|Turn on the #debate #BeRomanticIn4Words                                                               |\n",
      "|Let's get it on! #debate                                                                              |\n",
      "|Let's get it on!\n",
      "#debatenight #DebateHeadache https://t.co/dptp4m503n                                 |\n",
      "|#Debate ~ Let's turn up the heat on Hillary folks ~ https://t.co/e7COtWPO74 ~~ https://t.co/58YIxt6paW|\n",
      "|What will you be drinking during the #Debates ?                                                       |\n",
      "|@FoxNews @mike_pence https://t.co/asAUwVkn2m PLEASE VOTE FOLKS!!!                                     |\n",
      "|@Ash4President @AshvsEvilDead PLEASE VOTE FOLKS!!! https://t.co/asAUwVkn2m                            |\n",
      "|Turn off the #debate #BeRomanticIn4Words                                                              |\n",
      "|#Debate ~ Let's turn up the heat on Hillary folks ~ https://t.co/e7COtWPO74 ~~ https://t.co/okf1FP0GJk|\n",
      "|#Debate ~ Let's turn up the heat on Hillary folks ~ https://t.co/D5suH2uloH https://t.co/cXlqiy9tV6   |\n",
      "+------------------------------------------------------------------------------------------------------+\n",
      "only showing top 10 rows\n",
      "\n",
      "# ===========> Category 2 <=========== #\n",
      "+--------------------------------------------------------------------------------------------------------------------------------------------+\n",
      "|tweet                                                                                                                                       |\n",
      "+--------------------------------------------------------------------------------------------------------------------------------------------+\n",
      "|'Bowl of Skittles' photographer sues Trumps, Pence     - CNET: Lawsuit alleges Trump campaign did not have pe... https://t.co/Z6CuAFSfcq    |\n",
      "|⚡️ “Bernie's Best Trump Takedowns” by @BernieSanders\n",
      "\n",
      "https://t.co/wjDaDMBU45                                                               |\n",
      "|Love this! Donald Trump sings The Muppets' Mahna Mahna ... https://t.co/qjYBO17Hc9                                                          |\n",
      "|Hillary could have sewn up election if she invited Alec Baldwin dressed as #Trump to sit in front row #debatenight                          |\n",
      "|Amy Schumer booed by Donald Trump supporters https://t.co/jWnobvJlg9                                                                        |\n",
      "|\"My account was hacked.\" https://t.co/EzHN3Ud1VT                                                                                            |\n",
      "|'Bowl of Skittles' photographer sues Trumps, Pence     - CNET: Lawsuit alleges Trump campaign did not have pe... https://t.co/vVGaXAmExG    |\n",
      "|\"Bookings at Trump's hotels were down 59 percent during the first half of 2016, according to the travel site Hipmun… https://t.co/GnzQib57FL|\n",
      "|'Bowl of Skittles' photographer sues Trumps, Pence     - CNET: Lawsuit alleges Trump campaign did not have pe... https://t.co/TgI81k7shq    |\n",
      "|Drain the Swamp!! Trump 2016                                                                                                                |\n",
      "+--------------------------------------------------------------------------------------------------------------------------------------------+\n",
      "only showing top 10 rows\n",
      "\n",
      "# ===========> Category 3 <=========== #\n",
      "+------------------------------------------------------------------------------------------------------------------------------------------------+\n",
      "|tweet                                                                                                                                           |\n",
      "+------------------------------------------------------------------------------------------------------------------------------------------------+\n",
      "|U.S. Presidential candidates, @HillaryClinton &amp;  @realDonaldTrump in final face-off tonight.Follow the #debate live https://t.co/lHByDNmC5X\"|\n",
      "|Another presidential debate come on tonight...ugh                                                                                               |\n",
      "|Palin to be a Trump guest at tonight's debate https://t.co/GBflmHqCQ7 https://t.co/0IhxUb85GA                                                   |\n",
      "|Palin to be a Trump guest at tonight's debate https://t.co/P3QQgVuDmM https://t.co/Xj4bv4j4Cv                                                   |\n",
      "|Palin to be a Trump guest at tonight's debate https://t.co/Nnu3IQfsl7 https://t.co/7OIO6uobCV                                                   |\n",
      "|{UAH} Unshackled Trump and confident Clinton to clash in final presidential debate: Donald… https://t.co/V7g2qLr00O                             |\n",
      "|My plan for tonight's #debate: watch #Arrow and #Frequency instead.                                                                             |\n",
      "|RT nytvideo: Fox News is in the spotlight with Chris Wallace moderating tonight's #debate https://t.co/aCHL8zXcEw                               |\n",
      "|#ImWithHer and will be watching the final #debate LIVE on Twitter tonight! https://t.co/86mASjefW0 https://t.co/Y7uwwm6d8p                      |\n",
      "|Trump, Clinton gear up for final face-off: Donald Trump heads into his final debate clash with Hillary Clinto... https://t.co/K7dbCGSMia        |\n",
      "+------------------------------------------------------------------------------------------------------------------------------------------------+\n",
      "only showing top 10 rows\n",
      "\n",
      "# ===========> Category 4 <=========== #\n",
      "+--------------------------------------------------------------------------------------------------------------------------------------------+\n",
      "|tweet                                                                                                                                       |\n",
      "+--------------------------------------------------------------------------------------------------------------------------------------------+\n",
      "|Fox Chapel doctor’s anti-Trump yard signs have a distinct Pittsburgh flavor https://t.co/mKTRJC9UIU                                         |\n",
      "|This makes marginally less sense than the half-brother thing. https://t.co/Os8hYBUJcP                                                       |\n",
      "|@RealDJTrumpTeam Trump strong. Go Trump                                                                                                     |\n",
      "|I feel like Trump and Hillary are divorced parents fighting over custody of us, but we just wanna go with grandma.                          |\n",
      "|@BretBaier @megynkelly @FoxNews   Trump hating crew there Bret.                                                                             |\n",
      "|And Van says they are booing Trump...just then they break into \"LOCK HER UP! LOCK HER UP\" 😂 #Debate #DrainTheSwamp https://t.co/cp51TJgyH8 |\n",
      "|@LouDobbs poor #cnn, been listening on radio pre #debatenight to see if they have changed? NOPE still same bies led… https://t.co/6GYtuADBcf|\n",
      "|I HIGHLY DOUBT THAT.  He is another @FoxNews Trump hater. https://t.co/ABdQuljJ1N                                                           |\n",
      "|REPPIN! https://t.co/ZI4sz0bMB9                                                                                                             |\n",
      "|@thedailybeast Yes, anti-intellectual Donald Trump's 'go to' source for information and the publication he thinks deserves a Pulitzer.      |\n",
      "+--------------------------------------------------------------------------------------------------------------------------------------------+\n",
      "only showing top 10 rows\n",
      "\n"
     ]
    }
   ],
   "source": [
    "for category in range(5):\n",
    "    print \"# ===========> Category {0} <=========== #\".format(category)\n",
    "    trans_w2v_pre_results.filter(trans_w2v_pre_results['prediction']==category).select('tweet').show(10, False)"
   ]
  },
  {
   "cell_type": "code",
   "execution_count": 40,
   "metadata": {
    "collapsed": false,
    "scrolled": false
   },
   "outputs": [
    {
     "name": "stdout",
     "output_type": "stream",
     "text": [
      "# ===========> Category 0 <=========== #\n",
      "+------------------------------------------------------------------------------------------------------------------------------------------+\n",
      "|tweet                                                                                                                                     |\n",
      "+------------------------------------------------------------------------------------------------------------------------------------------+\n",
      "|#cornmeal crusted #redsnapper and #fries. #fishandchips #presidentialdebate #worstelectionever… https://t.co/6xRxmXDBQM                   |\n",
      "|Eck. Did it have to start with the F-word? #fauxnews #debatenight                                                                         |\n",
      "|Only 90 more minutes guys! #wegotthis #debates                                                                                            |\n",
      "|@dan5656 @Aaron_RS I have a major disagreement with her on Trump.  Glad she survived cancer, obviously.  Cheap shot.                      |\n",
      "|I want to die. #debatenight                                                                                                               |\n",
      "|Clinton needs to ensure she remains presidential and pivot herself towards policy not playing politics with @realDonaldTrump  #debatenight|\n",
      "|Fix my student loan problem #debatenight                                                                                                  |\n",
      "|Open discussion? This is about to be MAYHEM. #debatenight                                                                                 |\n",
      "|We know that a wreck is certain, but the train has left the station regardless. #debatenight                                              |\n",
      "|@weeklystandard It matters to 40+ million people. How insulting. #debate https://t.co/265zT4JaDO                                          |\n",
      "+------------------------------------------------------------------------------------------------------------------------------------------+\n",
      "only showing top 10 rows\n",
      "\n",
      "# ===========> Category 1 <=========== #\n",
      "+----------------------------------------------------------------------------------------------------------------------------------------+\n",
      "|tweet                                                                                                                                   |\n",
      "+----------------------------------------------------------------------------------------------------------------------------------------+\n",
      "|Who do I vote for? #debatenight                                                                                                         |\n",
      "|I just told @nbcwashington who I think is winning. Cast your vote now! #Debates #NBC4DC https://t.co/Ap20jEuq62                         |\n",
      "|@Couples_Coop what do you think? https://t.co/vAm0heQW94                                                                                |\n",
      "|@cnni @HillaryClinton wins! @CNNLIVE_ #debate https://t.co/vdNZrQtZ0S                                                                   |\n",
      "|Who you voting for? #debatenight                                                                                                        |\n",
      "|@jk_rowling What do you think about the #debatenight                                                                                    |\n",
      "|He has my vote. https://t.co/BopShVNyaJ                                                                                                 |\n",
      "|I just told @nbcwashington who I think is winning. Cast your vote now! #Debates #NBC4DC https://t.co/EwPfcQIMr3                         |\n",
      "|#Debate...@HillaryClinton is winning! #Trump #FeelTheBern @HillaryClinton @GovGaryJohnson @DrJillStein #DumpTrump #NeverTrump #HRC #Bern|\n",
      "|I just told @nbcwashington who I think is winning. Cast your vote now! #Debates #NBC4DC https://t.co/vRGzFtlx04                         |\n",
      "+----------------------------------------------------------------------------------------------------------------------------------------+\n",
      "only showing top 10 rows\n",
      "\n",
      "# ===========> Category 2 <=========== #\n",
      "+-----------------------------------------------------------------------------------------------------------------------------------------+\n",
      "|tweet                                                                                                                                    |\n",
      "+-----------------------------------------------------------------------------------------------------------------------------------------+\n",
      "|End them all. https://t.co/JxHKv3OfLj                                                                                                    |\n",
      "|DONALD TRUMP FC #debatenight                                                                                                             |\n",
      "|@FaZe_Censor low key want trump to win.:.                                                                                                |\n",
      "|When the brother of the President of The Untied States of America is voting for Donald Trump, that should tell you something!!\n",
      "#Trump2016|\n",
      "|@katiepack @newtgingrich lil Trump                                                                                                       |\n",
      "|Every time they say Donald J. Trump, I think “serial killer” #Debates                                                                    |\n",
      "|What will Donald be wearing?,???? #debatenight                                                                                           |\n",
      "|@PJStrikeForce @megynkelly @OANN. Kelly, it's hillary stumbling going up and down in the polls not Trump Kelly in the tank with hillary  |\n",
      "|#BartonAPLang \"Discipline and Donald Trump don't go together.\" -CNN Reporter.                                                            |\n",
      "|the j in donald j trump stands for jackass #PresidentialDebate                                                                           |\n",
      "+-----------------------------------------------------------------------------------------------------------------------------------------+\n",
      "only showing top 10 rows\n",
      "\n",
      "# ===========> Category 3 <=========== #\n",
      "+-------------------------------------------------------------------------------------------------------------------------------------------+\n",
      "|tweet                                                                                                                                      |\n",
      "+-------------------------------------------------------------------------------------------------------------------------------------------+\n",
      "|Let's rock this mutha @realDonaldTrump #Debatenight                                                                                        |\n",
      "|This is gonna be just great.... #debatenight                                                                                               |\n",
      "|Oh gosh. Here we go with #debatenight not sure I'm ready for this.                                                                         |\n",
      "|God be with you Chris Wallace #PresidentialDebate                                                                                          |\n",
      "|Watching the president of Las Vegas Convention Center speak thinking he should run #debates                                                |\n",
      "|WOOOOOO I FEEL LIKE IM FUCKING WATCHING A UFC FIGHT. FUCK YEAHHH #debatenight                                                              |\n",
      "|BBCWorld: RT awzurcher: A look at the media bleachers just minutes before the #PresidentialDebate kicks off. I'll … https://t.co/Hzao8WMI3r|\n",
      "|The last #PresidentialDebate?! #Nope! #LOL 😂 I'm not tryna lose my #LifeHigh.. . #GoTribe… https://t.co/51vsZrKem9                        |\n",
      "|I'm so with her. #StrongerTogether #debatenight https://t.co/pMpd9MtSIR                                                                    |\n",
      "|Chris Wallace just stated that one of these two candidates tonight will be our next president. God help us!!! #debate                      |\n",
      "+-------------------------------------------------------------------------------------------------------------------------------------------+\n",
      "only showing top 10 rows\n",
      "\n",
      "# ===========> Category 4 <=========== #\n",
      "+--------------------------------------------------------------------------------------------------------------------------------------+\n",
      "|tweet                                                                                                                                 |\n",
      "+--------------------------------------------------------------------------------------------------------------------------------------+\n",
      "|Reuters US: FOREX-Dollar steady as investors await U.S. presidential debate, ECB https://t.co/rlEsBqOGQf                              |\n",
      "|Watching the Usa Presidential debate.... not from the usa and i am stressed out!                                                      |\n",
      "|It figures the last Presidential debate would be in Sin City. #prophetic #debatenight                                                 |\n",
      "|I'm on the #TrumpTrain and will be watching the final #debate LIVE on Twitter tonight! https://t.co/56PQyZ52lc https://t.co/8QUAz1RPjN|\n",
      "|Awake to watch the final. I expect fireworks #debatenight                                                                             |\n",
      "|@In2TheSunshine2 And the Presidential Debate is on. #debate                                                                           |\n",
      "|WATCH: The Third 2016 Presidential Debate (LIVE STREAM) https://t.co/NVbOGwixem https://t.co/eXVM4oGkLe                               |\n",
      "|Me watching the #debates https://t.co/dCXFmnb67k                                                                                      |\n",
      "|WATCH: The Third 2016 Presidential Debate (LIVE STREAM) https://t.co/tSZXHIGdPg https://t.co/r5pnmxmVaF                               |\n",
      "|watching the presidential debate 2016                                                                                                 |\n",
      "+--------------------------------------------------------------------------------------------------------------------------------------+\n",
      "only showing top 10 rows\n",
      "\n"
     ]
    }
   ],
   "source": [
    "for category in range(5):\n",
    "    print \"# ===========> Category {0} <=========== #\".format(category)\n",
    "    trans_w2v_in_results.filter(trans_w2v_in_results['prediction']==category).select('tweet').show(10, False)"
   ]
  },
  {
   "cell_type": "markdown",
   "metadata": {},
   "source": [
    "## Top Ten Word"
   ]
  },
  {
   "cell_type": "code",
   "execution_count": 41,
   "metadata": {
    "collapsed": false
   },
   "outputs": [],
   "source": [
    "pre_debate_words = []\n",
    "for index, row in pre_debate_tweets_sample.iterrows():\n",
    "    pre_debate_words.append(row['text'])\n",
    "pre_debate_words_flat = [val for sublist in pre_debate_words for val in sublist]"
   ]
  },
  {
   "cell_type": "code",
   "execution_count": 42,
   "metadata": {
    "collapsed": false
   },
   "outputs": [
    {
     "data": {
      "text/plain": [
       "663585"
      ]
     },
     "execution_count": 42,
     "metadata": {},
     "output_type": "execute_result"
    }
   ],
   "source": [
    "len(pre_debate_words_flat)"
   ]
  },
  {
   "cell_type": "code",
   "execution_count": 43,
   "metadata": {
    "collapsed": false
   },
   "outputs": [],
   "source": [
    "in_debate_words = []\n",
    "for index, row in in_debate_tweets_sample.iterrows():\n",
    "    in_debate_words.append(row['text'])\n",
    "in_debate_words_flat = [val for sublist in in_debate_words for val in sublist]"
   ]
  },
  {
   "cell_type": "code",
   "execution_count": 44,
   "metadata": {
    "collapsed": false
   },
   "outputs": [
    {
     "data": {
      "text/plain": [
       "1526647"
      ]
     },
     "execution_count": 44,
     "metadata": {},
     "output_type": "execute_result"
    }
   ],
   "source": [
    "len(in_debate_words_flat)"
   ]
  },
  {
   "cell_type": "code",
   "execution_count": 45,
   "metadata": {
    "collapsed": false
   },
   "outputs": [],
   "source": [
    "pre_debate_words_df = spark.createDataFrame(pd.DataFrame(pre_debate_words_flat, columns=['word']))\n",
    "pre_debate_words_window = pre_debate_words_df.createOrReplaceTempView(\"pre_debate_words_window\")"
   ]
  },
  {
   "cell_type": "code",
   "execution_count": 46,
   "metadata": {
    "collapsed": false
   },
   "outputs": [
    {
     "name": "stdout",
     "output_type": "stream",
     "text": [
      "+----------+-----+\n",
      "|      word|count|\n",
      "+----------+-----+\n",
      "|     trump|44167|\n",
      "|     debat|14081|\n",
      "|presidenti| 9209|\n",
      "|   tonight| 7812|\n",
      "|    donald| 7652|\n",
      "|     watch| 7429|\n",
      "|     final| 7015|\n",
      "|   clinton| 6738|\n",
      "|   hillari| 6452|\n",
      "|      live| 5518|\n",
      "+----------+-----+\n",
      "only showing top 10 rows\n",
      "\n"
     ]
    }
   ],
   "source": [
    "spark.sql(\"\"\"\n",
    "  SELECT word, COUNT(word) AS count\n",
    "  FROM pre_debate_words_window\n",
    "  GROUP BY word\n",
    "  ORDER BY count DESC\n",
    "\"\"\").show(10)"
   ]
  },
  {
   "cell_type": "code",
   "execution_count": 47,
   "metadata": {
    "collapsed": false
   },
   "outputs": [],
   "source": [
    "in_debate_words_df = spark.createDataFrame(pd.DataFrame(in_debate_words_flat, columns=['word']))\n",
    "in_debate_words_window = in_debate_words_df.createOrReplaceTempView(\"in_debate_words_window\")"
   ]
  },
  {
   "cell_type": "code",
   "execution_count": 48,
   "metadata": {
    "collapsed": false
   },
   "outputs": [
    {
     "name": "stdout",
     "output_type": "stream",
     "text": [
      "+----------+-----+\n",
      "|      word|count|\n",
      "+----------+-----+\n",
      "|     trump|94843|\n",
      "|     debat|22079|\n",
      "|   hillari|21397|\n",
      "|    donald|18828|\n",
      "|   clinton|16445|\n",
      "|       say|13824|\n",
      "|presidenti|11677|\n",
      "|      like|11443|\n",
      "|      vote|10905|\n",
      "|     elect|10347|\n",
      "+----------+-----+\n",
      "only showing top 10 rows\n",
      "\n"
     ]
    }
   ],
   "source": [
    "spark.sql(\"\"\"\n",
    "  SELECT word, COUNT(word) AS count\n",
    "  FROM in_debate_words_window\n",
    "  GROUP BY word\n",
    "  ORDER BY count DESC\n",
    "\"\"\").show(10)"
   ]
  },
  {
   "cell_type": "markdown",
   "metadata": {},
   "source": [
    "## Top Ten \\#HashTags"
   ]
  },
  {
   "cell_type": "code",
   "execution_count": 49,
   "metadata": {
    "collapsed": false
   },
   "outputs": [],
   "source": [
    "pre_debate_tags = []\n",
    "for index, row in pre_debate_tweets_sample.iterrows():\n",
    "    pre_debate_tags.append(row['entities'])\n",
    "pre_debate_tags_flat = [val for sublist in pre_debate_tags for val in sublist]"
   ]
  },
  {
   "cell_type": "code",
   "execution_count": 50,
   "metadata": {
    "collapsed": true
   },
   "outputs": [],
   "source": [
    "in_debate_tags = []\n",
    "for index, row in in_debate_tweets_sample.iterrows():\n",
    "    in_debate_tags.append(row['entities'])\n",
    "in_debate_tags_flat = [val for sublist in in_debate_tags for val in sublist]"
   ]
  },
  {
   "cell_type": "code",
   "execution_count": 51,
   "metadata": {
    "collapsed": true
   },
   "outputs": [],
   "source": [
    "pre_debate_tags_df = spark.createDataFrame(pd.DataFrame(pre_debate_tags_flat, columns=['tags']))\n",
    "pre_debate_tags_window = pre_debate_tags_df.createOrReplaceTempView(\"pre_debate_tags_window\")\n",
    "in_debate_tags_df = spark.createDataFrame(pd.DataFrame(in_debate_tags_flat, columns=['tags']))\n",
    "in_debate_tags_window = in_debate_tags_df.createOrReplaceTempView(\"in_debate_tags_window\")"
   ]
  },
  {
   "cell_type": "code",
   "execution_count": 52,
   "metadata": {
    "collapsed": false
   },
   "outputs": [
    {
     "name": "stdout",
     "output_type": "stream",
     "text": [
      "+--------------------+---------+\n",
      "|                tags|tag_count|\n",
      "+--------------------+---------+\n",
      "|              debate|    14929|\n",
      "|         debatenight|     7337|\n",
      "|              Debate|     2771|\n",
      "|               Trump|     2594|\n",
      "|  PresidentialDebate|     1505|\n",
      "|           ImWithHer|     1323|\n",
      "|             debates|     1194|\n",
      "|          TrumpTrain|     1128|\n",
      "|             Hillary|      967|\n",
      "|         DebateNight|      795|\n",
      "|             Clinton|      617|\n",
      "|                MAGA|      613|\n",
      "|               trump|      595|\n",
      "|       DrainTheSwamp|      498|\n",
      "|      DebateHeadache|      481|\n",
      "|          debate2016|      470|\n",
      "|             Debates|      368|\n",
      "|        Election2016|      350|\n",
      "|         Debatenight|      306|\n",
      "|          NeverTrump|      267|\n",
      "|                 CNN|      235|\n",
      "|         Debates2016|      234|\n",
      "|MakeAmericaGreatA...|      201|\n",
      "|                news|      197|\n",
      "|        TrumpPence16|      196|\n",
      "|      HillaryClinton|      193|\n",
      "|         DonaldTrump|      180|\n",
      "|RejectedHillarySl...|      175|\n",
      "|                tcot|      172|\n",
      "|                News|      141|\n",
      "+--------------------+---------+\n",
      "only showing top 30 rows\n",
      "\n"
     ]
    }
   ],
   "source": [
    "spark.sql(\"\"\"\n",
    "  SELECT tags, COUNT(tags) AS tag_count\n",
    "  FROM pre_debate_tags_window\n",
    "  GROUP BY tags\n",
    "  ORDER BY tag_count DESC\n",
    "\"\"\").show(30)"
   ]
  },
  {
   "cell_type": "code",
   "execution_count": 53,
   "metadata": {
    "collapsed": false
   },
   "outputs": [
    {
     "name": "stdout",
     "output_type": "stream",
     "text": [
      "+------------------+---------+\n",
      "|              tags|tag_count|\n",
      "+------------------+---------+\n",
      "|       debatenight|    57764|\n",
      "|            debate|    26002|\n",
      "|       DebateNight|     6000|\n",
      "|            Debate|     4744|\n",
      "|             Trump|     4393|\n",
      "|           Debates|     4263|\n",
      "|           debates|     3523|\n",
      "|            NBC4DC|     3446|\n",
      "|       Debatenight|     2196|\n",
      "|         ImWithHer|     2062|\n",
      "|PresidentialDebate|     1922|\n",
      "|           Hillary|     1708|\n",
      "|        debate2016|     1239|\n",
      "|             trump|     1154|\n",
      "|              MAGA|     1048|\n",
      "|    DebateHeadache|     1025|\n",
      "|           Clinton|      801|\n",
      "|       Debates2016|      761|\n",
      "|         FactCheck|      715|\n",
      "|     TrumpDebateCT|      703|\n",
      "|             NBCCT|      694|\n",
      "|    HillaryClinton|      659|\n",
      "|       DonaldTrump|      620|\n",
      "|      Election2016|      571|\n",
      "|      ChrisWallace|      505|\n",
      "|        NeverTrump|      502|\n",
      "|     DrainTheSwamp|      472|\n",
      "|         imwithher|      456|\n",
      "|        TrumpTrain|      433|\n",
      "|              news|      417|\n",
      "+------------------+---------+\n",
      "only showing top 30 rows\n",
      "\n"
     ]
    }
   ],
   "source": [
    "spark.sql(\"\"\"\n",
    "  SELECT tags, COUNT(tags) AS tag_count\n",
    "  FROM in_debate_tags_window\n",
    "  GROUP BY tags\n",
    "  ORDER BY tag_count DESC\n",
    "\"\"\").show(30)"
   ]
  },
  {
   "cell_type": "markdown",
   "metadata": {
    "collapsed": true
   },
   "source": [
    "## More Visualizations"
   ]
  },
  {
   "cell_type": "code",
   "execution_count": 54,
   "metadata": {
    "collapsed": false,
    "scrolled": false
   },
   "outputs": [
    {
     "data": {
      "image/png": "[encoded data removed]",
      "text/plain": [
       "<matplotlib.figure.Figure at 0x7fc757e13050>"
      ]
     },
     "metadata": {},
     "output_type": "display_data"
    },
    {
     "data": {
      "text/plain": [
       "<ggplot: (8780884349761)>"
      ]
     },
     "execution_count": 54,
     "metadata": {},
     "output_type": "execute_result"
    }
   ],
   "source": [
    "ggplot.ggplot(pre_result_pdf, ggplot.aes(x='start', weight='percentage', fill='factor(prediction)')) \\\n",
    "+ ggplot.geom_bar()"
   ]
  },
  {
   "cell_type": "code",
   "execution_count": 55,
   "metadata": {
    "collapsed": false
   },
   "outputs": [
    {
     "data": {
      "image/png": "[encoded data removed]",
      "text/plain": [
       "<matplotlib.figure.Figure at 0x7fc757e2c410>"
      ]
     },
     "metadata": {},
     "output_type": "display_data"
    },
    {
     "data": {
      "text/plain": [
       "<ggplot: (8780884349605)>"
      ]
     },
     "execution_count": 55,
     "metadata": {},
     "output_type": "execute_result"
    }
   ],
   "source": [
    "ggplot.ggplot(in_result_pdf, ggplot.aes(x='start', weight='percentage', fill='factor(prediction)')) \\\n",
    "+ ggplot.geom_bar()"
   ]
  }
 ],
 "metadata": {
  "kernelspec": {
   "display_name": "Python 2",
   "language": "python",
   "name": "python2"
  },
  "language_info": {
   "codemirror_mode": {
    "name": "ipython",
    "version": 2
   },
   "file_extension": ".py",
   "mimetype": "text/x-python",
   "name": "python",
   "nbconvert_exporter": "python",
   "pygments_lexer": "ipython2",
   "version": "2.7.11"
  }
 },
 "nbformat": 4,
 "nbformat_minor": 0
}
